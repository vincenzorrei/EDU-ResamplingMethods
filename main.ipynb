{
 "cells": [
  {
   "cell_type": "code",
   "execution_count": 31,
   "metadata": {},
   "outputs": [],
   "source": [
    "import pandas as pd\n",
    "import numpy as np\n",
    "from sklearn.linear_model import LinearRegression\n",
    "from sklearn.metrics import mean_squared_error, make_scorer\n",
    "from sklearn.model_selection import train_test_split, LeaveOneOut, KFold, cross_val_score\n",
    "import matplotlib.pyplot as plt\n",
    "from packages.utils import plot_kfold\n"
   ]
  },
  {
   "cell_type": "markdown",
   "metadata": {},
   "source": [
    "# Dataset import and cleaning"
   ]
  },
  {
   "cell_type": "code",
   "execution_count": 32,
   "metadata": {},
   "outputs": [
    {
     "name": "stdout",
     "output_type": "stream",
     "text": [
      "<class 'pandas.core.frame.DataFrame'>\n",
      "RangeIndex: 397 entries, 0 to 396\n",
      "Data columns (total 9 columns):\n",
      " #   Column        Non-Null Count  Dtype  \n",
      "---  ------        --------------  -----  \n",
      " 0   mpg           397 non-null    float64\n",
      " 1   cylinders     397 non-null    int64  \n",
      " 2   displacement  397 non-null    float64\n",
      " 3   horsepower    397 non-null    object \n",
      " 4   weight        397 non-null    int64  \n",
      " 5   acceleration  397 non-null    float64\n",
      " 6   year          397 non-null    int64  \n",
      " 7   origin        397 non-null    int64  \n",
      " 8   name          397 non-null    object \n",
      "dtypes: float64(3), int64(4), object(2)\n",
      "memory usage: 28.0+ KB\n"
     ]
    }
   ],
   "source": [
    "df = pd.read_csv('data/Auto.csv')\n",
    "# df = pd.read_csv('https://github.com/vincenzorrei/EDU-Datasets/raw/refs/heads/main/Auto.csv')\n",
    "df.info()"
   ]
  },
  {
   "cell_type": "markdown",
   "metadata": {},
   "source": [
    "The horsepower column is currently of type object, indicating that its data contains non-numeric values (e.g., strings or possibly missing/invalid entries). Since horsepower represents a numerical feature, it should ideally be converted to a numeric data type (float or int) for meaningful analysis or modeling.\n"
   ]
  },
  {
   "cell_type": "code",
   "execution_count": 33,
   "metadata": {},
   "outputs": [
    {
     "name": "stdout",
     "output_type": "stream",
     "text": [
      "horsepower\n",
      "?    5\n",
      "Name: count, dtype: int64\n"
     ]
    }
   ],
   "source": [
    "# Find non-numeric values in the 'horsepower' column\n",
    "\n",
    "# pd.to_numeric(errors='coerce'):\n",
    "# Converts the column values to numeric, replacing those that cannot be converted with NaN.\n",
    "nan_index = pd.to_numeric(df['horsepower'], errors='coerce').isna()\n",
    "\n",
    "# Get the non-numeric values\n",
    "non_numeric_values = df['horsepower'][nan_index]\n",
    "print(non_numeric_values.value_counts())"
   ]
  },
  {
   "cell_type": "markdown",
   "metadata": {},
   "source": [
    "The presence of the value ? in your horsepower column is likely due to one of the following reasons:\n",
    "\n",
    "- Data Entry Issues:\n",
    "In the source data, ? might have been used as a placeholder for missing or unknown values instead of leaving the field blank or using a standard missing value indicator like NaN.\n",
    "\n",
    "- Formatting in the Dataset:\n",
    "If the data was extracted from a text file (e.g., CSV, TSV), ? might have been used as a way to indicate incomplete or invalid entries.\n",
    "\n",
    "- Original Dataset Conventions:\n",
    "In some older datasets, especially in UCI repositories or similar, ? is commonly used to signify \"unknown\" or \"not applicable.\""
   ]
  },
  {
   "cell_type": "code",
   "execution_count": 34,
   "metadata": {},
   "outputs": [
    {
     "name": "stdout",
     "output_type": "stream",
     "text": [
      "mpg             0\n",
      "cylinders       0\n",
      "displacement    0\n",
      "horsepower      0\n",
      "weight          0\n",
      "acceleration    0\n",
      "year            0\n",
      "origin          0\n",
      "name            0\n",
      "dtype: int64\n"
     ]
    }
   ],
   "source": [
    "# Replace problematic values like '?' with NaN\n",
    "df['horsepower'] = df['horsepower'].replace('?', np.nan)\n",
    "\n",
    "# Convert 'horsepower' to numeric (non-numeric values become NaN)\n",
    "df['horsepower'] = pd.to_numeric(df['horsepower'], errors='coerce')\n",
    "\n",
    "# Drop rows where 'horsepower' is NaN\n",
    "df.dropna(subset=['horsepower'], inplace=True)\n",
    "\n",
    "print(df.isna().sum())\n"
   ]
  },
  {
   "cell_type": "code",
   "execution_count": 35,
   "metadata": {},
   "outputs": [],
   "source": [
    "# Create polynomial features\n",
    "max_polynomial_degree = 10\n",
    "\n",
    "for i in range(2, max_polynomial_degree+1):\n",
    "    df[f'horsepower^{i}'] = df['horsepower'] ** i\n"
   ]
  },
  {
   "cell_type": "markdown",
   "metadata": {},
   "source": [
    "## Select X and y"
   ]
  },
  {
   "cell_type": "code",
   "execution_count": 36,
   "metadata": {},
   "outputs": [
    {
     "data": {
      "text/html": [
       "<div>\n",
       "<style scoped>\n",
       "    .dataframe tbody tr th:only-of-type {\n",
       "        vertical-align: middle;\n",
       "    }\n",
       "\n",
       "    .dataframe tbody tr th {\n",
       "        vertical-align: top;\n",
       "    }\n",
       "\n",
       "    .dataframe thead th {\n",
       "        text-align: right;\n",
       "    }\n",
       "</style>\n",
       "<table border=\"1\" class=\"dataframe\">\n",
       "  <thead>\n",
       "    <tr style=\"text-align: right;\">\n",
       "      <th></th>\n",
       "      <th>horsepower</th>\n",
       "      <th>horsepower^2</th>\n",
       "      <th>horsepower^3</th>\n",
       "      <th>horsepower^4</th>\n",
       "      <th>horsepower^5</th>\n",
       "      <th>horsepower^6</th>\n",
       "      <th>horsepower^7</th>\n",
       "      <th>horsepower^8</th>\n",
       "      <th>horsepower^9</th>\n",
       "      <th>horsepower^10</th>\n",
       "    </tr>\n",
       "  </thead>\n",
       "  <tbody>\n",
       "    <tr>\n",
       "      <th>0</th>\n",
       "      <td>130.0</td>\n",
       "      <td>16900.0</td>\n",
       "      <td>2197000.0</td>\n",
       "      <td>285610000.0</td>\n",
       "      <td>3.712930e+10</td>\n",
       "      <td>4.826809e+12</td>\n",
       "      <td>6.274852e+14</td>\n",
       "      <td>8.157307e+16</td>\n",
       "      <td>1.060450e+19</td>\n",
       "      <td>1.378585e+21</td>\n",
       "    </tr>\n",
       "    <tr>\n",
       "      <th>1</th>\n",
       "      <td>165.0</td>\n",
       "      <td>27225.0</td>\n",
       "      <td>4492125.0</td>\n",
       "      <td>741200625.0</td>\n",
       "      <td>1.222981e+11</td>\n",
       "      <td>2.017919e+13</td>\n",
       "      <td>3.329566e+15</td>\n",
       "      <td>5.493784e+17</td>\n",
       "      <td>9.064743e+19</td>\n",
       "      <td>1.495683e+22</td>\n",
       "    </tr>\n",
       "    <tr>\n",
       "      <th>2</th>\n",
       "      <td>150.0</td>\n",
       "      <td>22500.0</td>\n",
       "      <td>3375000.0</td>\n",
       "      <td>506250000.0</td>\n",
       "      <td>7.593750e+10</td>\n",
       "      <td>1.139062e+13</td>\n",
       "      <td>1.708594e+15</td>\n",
       "      <td>2.562891e+17</td>\n",
       "      <td>3.844336e+19</td>\n",
       "      <td>5.766504e+21</td>\n",
       "    </tr>\n",
       "    <tr>\n",
       "      <th>3</th>\n",
       "      <td>150.0</td>\n",
       "      <td>22500.0</td>\n",
       "      <td>3375000.0</td>\n",
       "      <td>506250000.0</td>\n",
       "      <td>7.593750e+10</td>\n",
       "      <td>1.139062e+13</td>\n",
       "      <td>1.708594e+15</td>\n",
       "      <td>2.562891e+17</td>\n",
       "      <td>3.844336e+19</td>\n",
       "      <td>5.766504e+21</td>\n",
       "    </tr>\n",
       "    <tr>\n",
       "      <th>4</th>\n",
       "      <td>140.0</td>\n",
       "      <td>19600.0</td>\n",
       "      <td>2744000.0</td>\n",
       "      <td>384160000.0</td>\n",
       "      <td>5.378240e+10</td>\n",
       "      <td>7.529536e+12</td>\n",
       "      <td>1.054135e+15</td>\n",
       "      <td>1.475789e+17</td>\n",
       "      <td>2.066105e+19</td>\n",
       "      <td>2.892547e+21</td>\n",
       "    </tr>\n",
       "  </tbody>\n",
       "</table>\n",
       "</div>"
      ],
      "text/plain": [
       "   horsepower  horsepower^2  horsepower^3  horsepower^4  horsepower^5  \\\n",
       "0       130.0       16900.0     2197000.0   285610000.0  3.712930e+10   \n",
       "1       165.0       27225.0     4492125.0   741200625.0  1.222981e+11   \n",
       "2       150.0       22500.0     3375000.0   506250000.0  7.593750e+10   \n",
       "3       150.0       22500.0     3375000.0   506250000.0  7.593750e+10   \n",
       "4       140.0       19600.0     2744000.0   384160000.0  5.378240e+10   \n",
       "\n",
       "   horsepower^6  horsepower^7  horsepower^8  horsepower^9  horsepower^10  \n",
       "0  4.826809e+12  6.274852e+14  8.157307e+16  1.060450e+19   1.378585e+21  \n",
       "1  2.017919e+13  3.329566e+15  5.493784e+17  9.064743e+19   1.495683e+22  \n",
       "2  1.139062e+13  1.708594e+15  2.562891e+17  3.844336e+19   5.766504e+21  \n",
       "3  1.139062e+13  1.708594e+15  2.562891e+17  3.844336e+19   5.766504e+21  \n",
       "4  7.529536e+12  1.054135e+15  1.475789e+17  2.066105e+19   2.892547e+21  "
      ]
     },
     "execution_count": 36,
     "metadata": {},
     "output_type": "execute_result"
    }
   ],
   "source": [
    "# Store the column names of the horsepower columns\n",
    "horsepower_cols = [i for i in df.columns if 'horsepower' in i]\n",
    "\n",
    "# Split the data into X and y\n",
    "X = df[horsepower_cols]\n",
    "y = df['mpg']\n",
    "\n",
    "X.head()"
   ]
  },
  {
   "cell_type": "markdown",
   "metadata": {},
   "source": [
    "# Train & Test split"
   ]
  },
  {
   "cell_type": "code",
   "execution_count": 37,
   "metadata": {},
   "outputs": [],
   "source": [
    "t_prop = 0.2\n",
    "X_train, X_test, y_train, y_test = train_test_split(X, y, test_size=t_prop, random_state=42)"
   ]
  },
  {
   "cell_type": "markdown",
   "metadata": {},
   "source": [
    "# 1. Validation Set Approach"
   ]
  },
  {
   "cell_type": "markdown",
   "metadata": {},
   "source": [
    "The validation approach in data science and machine learning is a method for assessing the performance of a model on unseen data.\n",
    "\n",
    "Its primary purpose is to ensure that the model generalizes well to new, unseen datasets. This approach involves splitting the available data into different sets (usually 50% vs- 50%) and evaluating the model using these subsets"
   ]
  },
  {
   "cell_type": "code",
   "execution_count": 38,
   "metadata": {},
   "outputs": [],
   "source": [
    "# Dividing the dataset into training and val sets using cross-validation\n",
    "prop = 0.5\n",
    "X_train_cross, X_val, y_train_cross, y_val = train_test_split(X_train, y_train, test_size=prop, random_state=42)\n"
   ]
  },
  {
   "cell_type": "code",
   "execution_count": 39,
   "metadata": {},
   "outputs": [
    {
     "name": "stdout",
     "output_type": "stream",
     "text": [
      "MSE for polynomial degree 1: 23.6798\n",
      "MSE for polynomial degree 2: 19.2203\n",
      "MSE for polynomial degree 3: 19.4173\n",
      "MSE for polynomial degree 4: 19.4455\n",
      "MSE for polynomial degree 5: 18.7473\n",
      "MSE for polynomial degree 6: 18.5040\n",
      "MSE for polynomial degree 7: 18.6417\n",
      "MSE for polynomial degree 8: 18.8546\n",
      "MSE for polynomial degree 9: 18.8182\n",
      "MSE for polynomial degree 10: 18.6300\n"
     ]
    }
   ],
   "source": [
    "# Choose the model\n",
    "model = LinearRegression()\n",
    "results = {}\n",
    "\n",
    "# Create a loop\n",
    "for i in range(1, len(horsepower_cols)+1):\n",
    "\n",
    "    # Fit the model\n",
    "    model.fit(X_train_cross[horsepower_cols[:i]], y_train_cross)\n",
    "    # Predict the target variable\n",
    "    y_val_pred = model.predict(X_val[horsepower_cols[:i]])\n",
    "    # Calculate the MSE\n",
    "    mse = mean_squared_error(y_val, y_val_pred)\n",
    "    results[horsepower_cols[i-1]] = mse\n",
    "    print(f'MSE for polynomial degree {i}: {mse:.4f}')\n"
   ]
  },
  {
   "cell_type": "code",
   "execution_count": 40,
   "metadata": {},
   "outputs": [
    {
     "data": {
      "text/plain": [
       "{'horsepower': np.float64(23.679768264415415),\n",
       " 'horsepower^2': np.float64(19.220250464186286),\n",
       " 'horsepower^3': np.float64(19.417250342613716),\n",
       " 'horsepower^4': np.float64(19.445474737869922),\n",
       " 'horsepower^5': np.float64(18.74730427434187),\n",
       " 'horsepower^6': np.float64(18.504049374139345),\n",
       " 'horsepower^7': np.float64(18.641731765342694),\n",
       " 'horsepower^8': np.float64(18.85458924108725),\n",
       " 'horsepower^9': np.float64(18.818177114429147),\n",
       " 'horsepower^10': np.float64(18.629976496419317)}"
      ]
     },
     "execution_count": 40,
     "metadata": {},
     "output_type": "execute_result"
    }
   ],
   "source": [
    "results"
   ]
  },
  {
   "cell_type": "code",
   "execution_count": 41,
   "metadata": {},
   "outputs": [
    {
     "data": {
      "image/png": "[encoded data removed]",
      "text/plain": [
       "<Figure size 640x480 with 1 Axes>"
      ]
     },
     "metadata": {},
     "output_type": "display_data"
    }
   ],
   "source": [
    "# Plot the results\n",
    "results = pd.DataFrame([results])\n",
    "results.T.plot()\n",
    "plt.xlabel('Polynomial degree')\n",
    "plt.xticks(ticks=range(len(results.columns)), labels=results.columns, rotation=90)\n",
    "plt.ylabel('MSE')\n",
    "plt.title('Validation approach: MSE vs. Polynomial degree')\n",
    "plt.show()\n"
   ]
  },
  {
   "cell_type": "markdown",
   "metadata": {},
   "source": [
    "# 2. K-Fold Cross Validation"
   ]
  },
  {
   "cell_type": "markdown",
   "metadata": {},
   "source": [
    "\n",
    "The choice of the optimal number of \n",
    "𝑘\n",
    "k in k-fold cross-validation is a trade-off between the accuracy of the model performance estimate and computational cost. Typically, a \n",
    "𝑘\n",
    "k between 5 and 10 is used"
   ]
  },
  {
   "cell_type": "markdown",
   "metadata": {},
   "source": [
    "##### (Optional) What's inside k-fold? Shuffle?"
   ]
  },
  {
   "cell_type": "code",
   "execution_count": null,
   "metadata": {},
   "outputs": [
    {
     "name": "stdout",
     "output_type": "stream",
     "text": [
      "\n",
      "Test dataset index: [  0   1   2   3   4   5   6   7   8   9  10  11  12  13  14  15  16  17\n",
      "  18  19  20  21  22  23  24  25  26  27  28  29  30  31  32  33  34  35\n",
      "  36  37  38  39  40  41  42  43  44  45  46  47  48  49  50  51  52  53\n",
      "  54  55  56  57  58  59  60  61  62  63  64  65  66  67  68  69  70  71\n",
      "  72  73  74  75  76  77  78  79  80  81  82  83  84  85  86  87  88  89\n",
      "  90  91  92  93  94  95  96  97  98  99 100 101 102 103 104]\n",
      "Mean MSE across 1 folds: 26.5273\n",
      "\n",
      "Test dataset index: [105 106 107 108 109 110 111 112 113 114 115 116 117 118 119 120 121 122\n",
      " 123 124 125 126 127 128 129 130 131 132 133 134 135 136 137 138 139 140\n",
      " 141 142 143 144 145 146 147 148 149 150 151 152 153 154 155 156 157 158\n",
      " 159 160 161 162 163 164 165 166 167 168 169 170 171 172 173 174 175 176\n",
      " 177 178 179 180 181 182 183 184 185 186 187 188 189 190 191 192 193 194\n",
      " 195 196 197 198 199 200 201 202 203 204 205 206 207 208]\n",
      "Mean MSE across 1 folds: 25.8948\n",
      "\n",
      "Test dataset index: [209 210 211 212 213 214 215 216 217 218 219 220 221 222 223 224 225 226\n",
      " 227 228 229 230 231 232 233 234 235 236 237 238 239 240 241 242 243 244\n",
      " 245 246 247 248 249 250 251 252 253 254 255 256 257 258 259 260 261 262\n",
      " 263 264 265 266 267 268 269 270 271 272 273 274 275 276 277 278 279 280\n",
      " 281 282 283 284 285 286 287 288 289 290 291 292 293 294 295 296 297 298\n",
      " 299 300 301 302 303 304 305 306 307 308 309 310 311 312]\n",
      "Mean MSE across 1 folds: 21.9350\n",
      "------------------------------\n",
      "Mean MSE across 3 folds: 24.7857\n"
     ]
    }
   ],
   "source": [
    "# Example for Just horsepower\n",
    "\n",
    "# Initialize the model and k-fold cross-validation\n",
    "k = 10  # Number of folds\n",
    "kf = KFold(n_splits=k, shuffle=True, random_state=42)\n",
    "model = LinearRegression()\n",
    "\n",
    "# List to store MSE for each fold\n",
    "mse_scores = []\n",
    "X_train_single = X_train['horsepower']\n",
    "\n",
    "# Perform k-fold cross-validation\n",
    "for i, (train_index, val_index) in enumerate(kf.split(X_train_single)):\n",
    "    # Split the data into training and test sets\n",
    "    X_train_cross, X_val = X_train_single.iloc[train_index], X_train_single.iloc[val_index]\n",
    "    y_train_cross, y_val = y_train.iloc[train_index], y_train.iloc[val_index]\n",
    "\n",
    "    # Select only horsepower column\n",
    "    X_train_cross = X_train_cross.values.reshape(-1, 1)\n",
    "    \n",
    "    # Train the model on the training set\n",
    "    model.fit(X_train_cross, y_train_cross)\n",
    "    \n",
    "    # Predict on the test set\n",
    "    y_pred = model.predict(X_val.values.reshape(-1, 1))\n",
    "    \n",
    "    # Calculate Mean Squared Error\n",
    "    mse = mean_squared_error(y_val.values, y_pred)\n",
    "    mse_scores.append(mse)\n",
    "    # print(f\"Fold {i}:\")\n",
    "    #print(f\"  Training dataset index: {train_index}\")\n",
    "    print(f\"\\nTest dataset index: {val_index}\")\n",
    "    print(f\"Mean MSE across {1} folds: {mse:.4f}\")\n",
    "\n",
    "# Calculate the mean and standard deviation of MSE\n",
    "mean_mse = np.mean(mse_scores)\n",
    "\n",
    "# Output the results\n",
    "print(f\"{'-'*30}\\nMean MSE across {k} folds: {mean_mse:.4f}\")"
   ]
  },
  {
   "cell_type": "markdown",
   "metadata": {},
   "source": [
    "#### How to K-Fold Cross validation"
   ]
  },
  {
   "cell_type": "code",
   "execution_count": 58,
   "metadata": {},
   "outputs": [
    {
     "name": "stdout",
     "output_type": "stream",
     "text": [
      "Mean Squared Error (average): 19.411547282135963\n"
     ]
    }
   ],
   "source": [
    "# Create the scorer for Mean Squared Error\n",
    "mse_scorer = make_scorer(mean_squared_error, greater_is_better=False)\n",
    "\n",
    "# Initialize the linear regression model\n",
    "regr = LinearRegression()\n",
    "\n",
    "# Create the K-Fold cross-validator\n",
    "cv = KFold(n_splits=5, shuffle=True, random_state=42)\n",
    "\n",
    "# Perform cross-validation measuring the Mean Squared Error\n",
    "scores = cross_val_score(\n",
    "    regr, X_train, y_train, cv=cv, scoring=mse_scorer, n_jobs=-1\n",
    ") # you can simply use scoring='accuracy' instead of mse_scorer in classification problems\n",
    "\n",
    "# Calculate the mean of the MSE scores\n",
    "mean_mse = -scores.mean()  # Invert the sign because greater_is_better=False\n",
    "print(f\"Mean Squared Error (average): {mean_mse}\")\n"
   ]
  },
  {
   "cell_type": "code",
   "execution_count": 59,
   "metadata": {},
   "outputs": [
    {
     "data": {
      "image/png": "[encoded data removed]",
      "text/plain": [
       "<Figure size 600x300 with 1 Axes>"
      ]
     },
     "metadata": {},
     "output_type": "display_data"
    }
   ],
   "source": [
    "# Create figure and axis\n",
    "fig, ax = plt.subplots(figsize=(6, 3))\n",
    "plot_kfold(cv, X_train, y_train, ax, 5)\n",
    "plt.tight_layout()\n",
    "fig.subplots_adjust(right=0.6)"
   ]
  },
  {
   "cell_type": "markdown",
   "metadata": {},
   "source": [
    "# 3. Leave One Out Cross Validation (LOOCV)"
   ]
  },
  {
   "cell_type": "code",
   "execution_count": null,
   "metadata": {},
   "outputs": [
    {
     "name": "stdout",
     "output_type": "stream",
     "text": [
      "Mean Squared Error (average): 19.257471634638375\n"
     ]
    }
   ],
   "source": [
    "# Create the LOOCV cross-validator\n",
    "cv = LeaveOneOut()\n",
    "\n",
    "# Perform cross-validation measuring the Mean Squared Error\n",
    "scores = cross_val_score(\n",
    "    regr, X_train, y_train, cv=cv, scoring=mse_scorer, n_jobs=-1\n",
    ") # you can simply use scoring='accuracy' instead of mse_scorer in classification problems\n",
    "\n",
    "# Calculate the mean of the MSE scores\n",
    "mean_mse = -scores.mean()  # Invert the sign because greater_is_better=False\n",
    "print(f\"Mean Squared Error (average): {mean_mse}\")\n"
   ]
  }
 ],
 "metadata": {
  "kernelspec": {
   "display_name": ".venv",
   "language": "python",
   "name": "python3"
  },
  "language_info": {
   "codemirror_mode": {
    "name": "ipython",
    "version": 3
   },
   "file_extension": ".py",
   "mimetype": "text/x-python",
   "name": "python",
   "nbconvert_exporter": "python",
   "pygments_lexer": "ipython3",
   "version": "3.12.4"
  }
 },
 "nbformat": 4,
 "nbformat_minor": 2
}
