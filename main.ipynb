{
 "cells": [
  {
   "cell_type": "code",
   "execution_count": 307,
   "metadata": {},
   "outputs": [],
   "source": [
    "import pandas as pd\n",
    "import numpy as np\n",
    "from sklearn.linear_model import LinearRegression\n",
    "from sklearn.metrics import mean_squared_error, make_scorer\n",
    "from sklearn.model_selection import train_test_split, LeaveOneOut, KFold, cross_val_score\n",
    "import matplotlib.pyplot as plt\n",
    "from packages.utils import plot_kfold\n"
   ]
  },
  {
   "cell_type": "markdown",
   "metadata": {},
   "source": [
    "# Dataset import and cleaning"
   ]
  },
  {
   "cell_type": "code",
   "execution_count": 308,
   "metadata": {},
   "outputs": [
    {
     "name": "stdout",
     "output_type": "stream",
     "text": [
      "<class 'pandas.core.frame.DataFrame'>\n",
      "RangeIndex: 397 entries, 0 to 396\n",
      "Data columns (total 9 columns):\n",
      " #   Column        Non-Null Count  Dtype  \n",
      "---  ------        --------------  -----  \n",
      " 0   mpg           397 non-null    float64\n",
      " 1   cylinders     397 non-null    int64  \n",
      " 2   displacement  397 non-null    float64\n",
      " 3   horsepower    397 non-null    object \n",
      " 4   weight        397 non-null    int64  \n",
      " 5   acceleration  397 non-null    float64\n",
      " 6   year          397 non-null    int64  \n",
      " 7   origin        397 non-null    int64  \n",
      " 8   name          397 non-null    object \n",
      "dtypes: float64(3), int64(4), object(2)\n",
      "memory usage: 28.0+ KB\n"
     ]
    }
   ],
   "source": [
    "df = pd.read_csv('data/Auto.csv')\n",
    "# df = pd.read_csv('https://github.com/vincenzorrei/EDU-Datasets/raw/refs/heads/main/Auto.csv')\n",
    "df.info()"
   ]
  },
  {
   "cell_type": "markdown",
   "metadata": {},
   "source": [
    "The horsepower column is currently of type object, indicating that its data contains non-numeric values (e.g., strings or possibly missing/invalid entries). Since horsepower represents a numerical feature, it should ideally be converted to a numeric data type (float or int) for meaningful analysis or modeling.\n"
   ]
  },
  {
   "cell_type": "code",
   "execution_count": 309,
   "metadata": {},
   "outputs": [
    {
     "name": "stdout",
     "output_type": "stream",
     "text": [
      "horsepower\n",
      "?    5\n",
      "Name: count, dtype: int64\n"
     ]
    }
   ],
   "source": [
    "# Find non-numeric values in the 'horsepower' column\n",
    "\n",
    "# pd.to_numeric(errors='coerce'):\n",
    "# Converts the column values to numeric, replacing those that cannot be converted with NaN.\n",
    "nan_index = pd.to_numeric(df['horsepower'], errors='coerce').isna()\n",
    "\n",
    "# Get the non-numeric values\n",
    "non_numeric_values = df['horsepower'][nan_index]\n",
    "print(non_numeric_values.value_counts())"
   ]
  },
  {
   "cell_type": "markdown",
   "metadata": {},
   "source": [
    "The presence of the value ? in your horsepower column is likely due to one of the following reasons:\n",
    "\n",
    "- Data Entry Issues:\n",
    "In the source data, ? might have been used as a placeholder for missing or unknown values instead of leaving the field blank or using a standard missing value indicator like NaN.\n",
    "\n",
    "- Formatting in the Dataset:\n",
    "If the data was extracted from a text file (e.g., CSV, TSV), ? might have been used as a way to indicate incomplete or invalid entries.\n",
    "\n",
    "- Original Dataset Conventions:\n",
    "In some older datasets, especially in UCI repositories or similar, ? is commonly used to signify \"unknown\" or \"not applicable.\""
   ]
  },
  {
   "cell_type": "code",
   "execution_count": 310,
   "metadata": {},
   "outputs": [
    {
     "name": "stdout",
     "output_type": "stream",
     "text": [
      "mpg             0\n",
      "cylinders       0\n",
      "displacement    0\n",
      "horsepower      0\n",
      "weight          0\n",
      "acceleration    0\n",
      "year            0\n",
      "origin          0\n",
      "name            0\n",
      "dtype: int64\n"
     ]
    }
   ],
   "source": [
    "# Replace problematic values like '?' with NaN\n",
    "df['horsepower'] = df['horsepower'].replace('?', np.nan)\n",
    "\n",
    "# Convert 'horsepower' to numeric (non-numeric values become NaN)\n",
    "df['horsepower'] = pd.to_numeric(df['horsepower'], errors='coerce')\n",
    "\n",
    "# Drop rows where 'horsepower' is NaN\n",
    "df.dropna(subset=['horsepower'], inplace=True)\n",
    "\n",
    "print(df.isna().sum())\n"
   ]
  },
  {
   "cell_type": "code",
   "execution_count": 311,
   "metadata": {},
   "outputs": [],
   "source": [
    "# Create polynomial features\n",
    "max_polynomial_degree = 10\n",
    "\n",
    "for i in range(2, max_polynomial_degree+1):\n",
    "    df[f'horsepower^{i}'] = df['horsepower'] ** i\n"
   ]
  },
  {
   "cell_type": "markdown",
   "metadata": {},
   "source": [
    "## Select X and y"
   ]
  },
  {
   "cell_type": "code",
   "execution_count": 312,
   "metadata": {},
   "outputs": [
    {
     "data": {
      "text/html": [
       "<div>\n",
       "<style scoped>\n",
       "    .dataframe tbody tr th:only-of-type {\n",
       "        vertical-align: middle;\n",
       "    }\n",
       "\n",
       "    .dataframe tbody tr th {\n",
       "        vertical-align: top;\n",
       "    }\n",
       "\n",
       "    .dataframe thead th {\n",
       "        text-align: right;\n",
       "    }\n",
       "</style>\n",
       "<table border=\"1\" class=\"dataframe\">\n",
       "  <thead>\n",
       "    <tr style=\"text-align: right;\">\n",
       "      <th></th>\n",
       "      <th>horsepower</th>\n",
       "      <th>horsepower^2</th>\n",
       "      <th>horsepower^3</th>\n",
       "      <th>horsepower^4</th>\n",
       "      <th>horsepower^5</th>\n",
       "      <th>horsepower^6</th>\n",
       "      <th>horsepower^7</th>\n",
       "      <th>horsepower^8</th>\n",
       "      <th>horsepower^9</th>\n",
       "      <th>horsepower^10</th>\n",
       "    </tr>\n",
       "  </thead>\n",
       "  <tbody>\n",
       "    <tr>\n",
       "      <th>0</th>\n",
       "      <td>130.0</td>\n",
       "      <td>16900.0</td>\n",
       "      <td>2197000.0</td>\n",
       "      <td>285610000.0</td>\n",
       "      <td>3.712930e+10</td>\n",
       "      <td>4.826809e+12</td>\n",
       "      <td>6.274852e+14</td>\n",
       "      <td>8.157307e+16</td>\n",
       "      <td>1.060450e+19</td>\n",
       "      <td>1.378585e+21</td>\n",
       "    </tr>\n",
       "    <tr>\n",
       "      <th>1</th>\n",
       "      <td>165.0</td>\n",
       "      <td>27225.0</td>\n",
       "      <td>4492125.0</td>\n",
       "      <td>741200625.0</td>\n",
       "      <td>1.222981e+11</td>\n",
       "      <td>2.017919e+13</td>\n",
       "      <td>3.329566e+15</td>\n",
       "      <td>5.493784e+17</td>\n",
       "      <td>9.064743e+19</td>\n",
       "      <td>1.495683e+22</td>\n",
       "    </tr>\n",
       "    <tr>\n",
       "      <th>2</th>\n",
       "      <td>150.0</td>\n",
       "      <td>22500.0</td>\n",
       "      <td>3375000.0</td>\n",
       "      <td>506250000.0</td>\n",
       "      <td>7.593750e+10</td>\n",
       "      <td>1.139062e+13</td>\n",
       "      <td>1.708594e+15</td>\n",
       "      <td>2.562891e+17</td>\n",
       "      <td>3.844336e+19</td>\n",
       "      <td>5.766504e+21</td>\n",
       "    </tr>\n",
       "    <tr>\n",
       "      <th>3</th>\n",
       "      <td>150.0</td>\n",
       "      <td>22500.0</td>\n",
       "      <td>3375000.0</td>\n",
       "      <td>506250000.0</td>\n",
       "      <td>7.593750e+10</td>\n",
       "      <td>1.139062e+13</td>\n",
       "      <td>1.708594e+15</td>\n",
       "      <td>2.562891e+17</td>\n",
       "      <td>3.844336e+19</td>\n",
       "      <td>5.766504e+21</td>\n",
       "    </tr>\n",
       "    <tr>\n",
       "      <th>4</th>\n",
       "      <td>140.0</td>\n",
       "      <td>19600.0</td>\n",
       "      <td>2744000.0</td>\n",
       "      <td>384160000.0</td>\n",
       "      <td>5.378240e+10</td>\n",
       "      <td>7.529536e+12</td>\n",
       "      <td>1.054135e+15</td>\n",
       "      <td>1.475789e+17</td>\n",
       "      <td>2.066105e+19</td>\n",
       "      <td>2.892547e+21</td>\n",
       "    </tr>\n",
       "    <tr>\n",
       "      <th>...</th>\n",
       "      <td>...</td>\n",
       "      <td>...</td>\n",
       "      <td>...</td>\n",
       "      <td>...</td>\n",
       "      <td>...</td>\n",
       "      <td>...</td>\n",
       "      <td>...</td>\n",
       "      <td>...</td>\n",
       "      <td>...</td>\n",
       "      <td>...</td>\n",
       "    </tr>\n",
       "    <tr>\n",
       "      <th>392</th>\n",
       "      <td>86.0</td>\n",
       "      <td>7396.0</td>\n",
       "      <td>636056.0</td>\n",
       "      <td>54700816.0</td>\n",
       "      <td>4.704270e+09</td>\n",
       "      <td>4.045672e+11</td>\n",
       "      <td>3.479278e+13</td>\n",
       "      <td>2.992179e+15</td>\n",
       "      <td>2.573274e+17</td>\n",
       "      <td>2.213016e+19</td>\n",
       "    </tr>\n",
       "    <tr>\n",
       "      <th>393</th>\n",
       "      <td>52.0</td>\n",
       "      <td>2704.0</td>\n",
       "      <td>140608.0</td>\n",
       "      <td>7311616.0</td>\n",
       "      <td>3.802040e+08</td>\n",
       "      <td>1.977061e+10</td>\n",
       "      <td>1.028072e+12</td>\n",
       "      <td>5.345973e+13</td>\n",
       "      <td>2.779906e+15</td>\n",
       "      <td>1.445551e+17</td>\n",
       "    </tr>\n",
       "    <tr>\n",
       "      <th>394</th>\n",
       "      <td>84.0</td>\n",
       "      <td>7056.0</td>\n",
       "      <td>592704.0</td>\n",
       "      <td>49787136.0</td>\n",
       "      <td>4.182119e+09</td>\n",
       "      <td>3.512980e+11</td>\n",
       "      <td>2.950903e+13</td>\n",
       "      <td>2.478759e+15</td>\n",
       "      <td>2.082157e+17</td>\n",
       "      <td>1.749012e+19</td>\n",
       "    </tr>\n",
       "    <tr>\n",
       "      <th>395</th>\n",
       "      <td>79.0</td>\n",
       "      <td>6241.0</td>\n",
       "      <td>493039.0</td>\n",
       "      <td>38950081.0</td>\n",
       "      <td>3.077056e+09</td>\n",
       "      <td>2.430875e+11</td>\n",
       "      <td>1.920391e+13</td>\n",
       "      <td>1.517109e+15</td>\n",
       "      <td>1.198516e+17</td>\n",
       "      <td>9.468276e+18</td>\n",
       "    </tr>\n",
       "    <tr>\n",
       "      <th>396</th>\n",
       "      <td>82.0</td>\n",
       "      <td>6724.0</td>\n",
       "      <td>551368.0</td>\n",
       "      <td>45212176.0</td>\n",
       "      <td>3.707398e+09</td>\n",
       "      <td>3.040067e+11</td>\n",
       "      <td>2.492855e+13</td>\n",
       "      <td>2.044141e+15</td>\n",
       "      <td>1.676196e+17</td>\n",
       "      <td>1.374480e+19</td>\n",
       "    </tr>\n",
       "  </tbody>\n",
       "</table>\n",
       "<p>392 rows × 10 columns</p>\n",
       "</div>"
      ],
      "text/plain": [
       "     horsepower  horsepower^2  horsepower^3  horsepower^4  horsepower^5  \\\n",
       "0         130.0       16900.0     2197000.0   285610000.0  3.712930e+10   \n",
       "1         165.0       27225.0     4492125.0   741200625.0  1.222981e+11   \n",
       "2         150.0       22500.0     3375000.0   506250000.0  7.593750e+10   \n",
       "3         150.0       22500.0     3375000.0   506250000.0  7.593750e+10   \n",
       "4         140.0       19600.0     2744000.0   384160000.0  5.378240e+10   \n",
       "..          ...           ...           ...           ...           ...   \n",
       "392        86.0        7396.0      636056.0    54700816.0  4.704270e+09   \n",
       "393        52.0        2704.0      140608.0     7311616.0  3.802040e+08   \n",
       "394        84.0        7056.0      592704.0    49787136.0  4.182119e+09   \n",
       "395        79.0        6241.0      493039.0    38950081.0  3.077056e+09   \n",
       "396        82.0        6724.0      551368.0    45212176.0  3.707398e+09   \n",
       "\n",
       "     horsepower^6  horsepower^7  horsepower^8  horsepower^9  horsepower^10  \n",
       "0    4.826809e+12  6.274852e+14  8.157307e+16  1.060450e+19   1.378585e+21  \n",
       "1    2.017919e+13  3.329566e+15  5.493784e+17  9.064743e+19   1.495683e+22  \n",
       "2    1.139062e+13  1.708594e+15  2.562891e+17  3.844336e+19   5.766504e+21  \n",
       "3    1.139062e+13  1.708594e+15  2.562891e+17  3.844336e+19   5.766504e+21  \n",
       "4    7.529536e+12  1.054135e+15  1.475789e+17  2.066105e+19   2.892547e+21  \n",
       "..            ...           ...           ...           ...            ...  \n",
       "392  4.045672e+11  3.479278e+13  2.992179e+15  2.573274e+17   2.213016e+19  \n",
       "393  1.977061e+10  1.028072e+12  5.345973e+13  2.779906e+15   1.445551e+17  \n",
       "394  3.512980e+11  2.950903e+13  2.478759e+15  2.082157e+17   1.749012e+19  \n",
       "395  2.430875e+11  1.920391e+13  1.517109e+15  1.198516e+17   9.468276e+18  \n",
       "396  3.040067e+11  2.492855e+13  2.044141e+15  1.676196e+17   1.374480e+19  \n",
       "\n",
       "[392 rows x 10 columns]"
      ]
     },
     "execution_count": 312,
     "metadata": {},
     "output_type": "execute_result"
    }
   ],
   "source": [
    "# Store the column names of the horsepower columns\n",
    "horsepower_cols = [i for i in df.columns if 'horsepower' in i]\n",
    "\n",
    "# Split the data into X and y\n",
    "X = df[horsepower_cols]\n",
    "y = df['mpg']\n",
    "\n",
    "X"
   ]
  },
  {
   "cell_type": "markdown",
   "metadata": {},
   "source": [
    "# Train & Test split"
   ]
  },
  {
   "cell_type": "code",
   "execution_count": 313,
   "metadata": {},
   "outputs": [],
   "source": [
    "t_prop = 0.5\n",
    "X_train, X_test, y_train, y_test = train_test_split(X, y, test_size=t_prop, random_state=42)"
   ]
  },
  {
   "cell_type": "markdown",
   "metadata": {},
   "source": [
    "# 1. Validation Set Approach"
   ]
  },
  {
   "cell_type": "markdown",
   "metadata": {},
   "source": [
    "The validation approach in data science and machine learning is a method for assessing the performance of a model on unseen data.\n",
    "\n",
    "Its primary purpose is to ensure that the model generalizes well to new, unseen datasets. This approach involves splitting the available data into different sets (usually 50% vs- 50%) and evaluating the model using these subsets"
   ]
  },
  {
   "cell_type": "code",
   "execution_count": 314,
   "metadata": {},
   "outputs": [],
   "source": [
    "# Dividing the dataset into training and val sets using cross-validation\n",
    "prop = 0.5\n",
    "X_train_cross, X_val, y_train_cross, y_val = train_test_split(X_train, y_train, test_size=prop, random_state=42)\n"
   ]
  },
  {
   "cell_type": "code",
   "execution_count": 315,
   "metadata": {},
   "outputs": [
    {
     "name": "stdout",
     "output_type": "stream",
     "text": [
      "MSE for polynomial degree 1: 27.1455\n",
      "MSE for polynomial degree 2: 18.9966\n",
      "MSE for polynomial degree 3: 18.8192\n",
      "MSE for polynomial degree 4: 19.2458\n",
      "MSE for polynomial degree 5: 18.4018\n",
      "MSE for polynomial degree 6: 18.4019\n",
      "MSE for polynomial degree 7: 18.4469\n",
      "MSE for polynomial degree 8: 18.6153\n",
      "MSE for polynomial degree 9: 18.5858\n",
      "MSE for polynomial degree 10: 18.5264\n"
     ]
    }
   ],
   "source": [
    "# Choose the model\n",
    "model = LinearRegression()\n",
    "results = {}\n",
    "\n",
    "# Create a loop\n",
    "for i in range(1, len(horsepower_cols)+1):\n",
    "\n",
    "    # Fit the model\n",
    "    model.fit(X_train_cross[horsepower_cols[:i]], y_train_cross)\n",
    "    # Predict the target variable\n",
    "    y_val_pred = model.predict(X_val[horsepower_cols[:i]])\n",
    "    # Calculate the MSE\n",
    "    mse = mean_squared_error(y_val, y_val_pred)\n",
    "    results[horsepower_cols[i-1]] = mse\n",
    "    print(f'MSE for polynomial degree {i}: {mse:.4f}')\n"
   ]
  },
  {
   "cell_type": "code",
   "execution_count": 316,
   "metadata": {},
   "outputs": [
    {
     "data": {
      "image/png": "[encoded data removed]",
      "text/plain": [
       "<Figure size 640x480 with 1 Axes>"
      ]
     },
     "metadata": {},
     "output_type": "display_data"
    }
   ],
   "source": [
    "# Plot the results\n",
    "results = pd.DataFrame([results])\n",
    "results.T.plot()\n",
    "plt.xlabel('Polynomial degree')\n",
    "plt.xticks(ticks=range(len(results.columns)), labels=results.columns, rotation=90)\n",
    "plt.ylabel('MSE')\n",
    "plt.title('Validation approach: MSE vs. Polynomial degree')\n",
    "plt.show()\n"
   ]
  },
  {
   "cell_type": "markdown",
   "metadata": {},
   "source": [
    "# 2. K-Fold Cross Validation"
   ]
  },
  {
   "cell_type": "markdown",
   "metadata": {},
   "source": [
    "\n",
    "The choice of the optimal number of \n",
    "𝑘\n",
    "k in k-fold cross-validation is a trade-off between the accuracy of the model performance estimate and computational cost. Typically, a \n",
    "𝑘\n",
    "k between 5 and 10 is used"
   ]
  },
  {
   "cell_type": "markdown",
   "metadata": {},
   "source": [
    "##### (Optional) What's inside k-fold? Shuffle?"
   ]
  },
  {
   "cell_type": "code",
   "execution_count": 317,
   "metadata": {},
   "outputs": [
    {
     "name": "stdout",
     "output_type": "stream",
     "text": [
      "\n",
      "Test dataset index: [  9  15  16  18  55  60  69  73  75 113 114 115 139 145 154 156 161 169\n",
      " 185 187]\n",
      "Mean MSE across 1 folds: 40.8943\n",
      "\n",
      "Test dataset index: [ 19  24  30  45  56  67  68  76  82  85  93  95 112 119 122 128 137 138\n",
      " 173 183]\n",
      "Mean MSE across 1 folds: 18.6786\n",
      "\n",
      "Test dataset index: [  5  12  29  35  42  51  65  66  78  97 118 123 124 132 135 136 162 165\n",
      " 168 170]\n",
      "Mean MSE across 1 folds: 16.9677\n",
      "\n",
      "Test dataset index: [  2  22  26  31  36  38  41  46  96 101 104 144 146 148 158 159 166 182\n",
      " 186 191]\n",
      "Mean MSE across 1 folds: 24.0837\n",
      "\n",
      "Test dataset index: [  0   4   6  10  11  27  32  33  62  90  98 100 109 125 127 140 141 142\n",
      " 155 193]\n",
      "Mean MSE across 1 folds: 32.0052\n",
      "\n",
      "Test dataset index: [ 23  25  28  40  44  64  70  79  81  84 108 111 117 126 143 147 152 175\n",
      " 178 180]\n",
      "Mean MSE across 1 folds: 14.4604\n",
      "\n",
      "Test dataset index: [  3  39  43  47  53  61  77  86  94 105 120 133 150 153 164 174 176 181\n",
      " 190]\n",
      "Mean MSE across 1 folds: 35.9518\n",
      "\n",
      "Test dataset index: [  7   8  13  17  34  49  59  72  80  83  89  91 110 131 134 167 171 172\n",
      " 177]\n",
      "Mean MSE across 1 folds: 19.6666\n",
      "\n",
      "Test dataset index: [  1  21  37  48  50  54  57  58  63  88 107 129 157 160 163 184 189 192\n",
      " 194]\n",
      "Mean MSE across 1 folds: 14.8239\n",
      "\n",
      "Test dataset index: [ 14  20  52  71  74  87  92  99 102 103 106 116 121 130 149 151 179 188\n",
      " 195]\n",
      "Mean MSE across 1 folds: 18.8760\n",
      "------------------------------\n",
      "Mean MSE across 10 folds: 23.6408\n"
     ]
    }
   ],
   "source": [
    "# Example for Just horsepower\n",
    "\n",
    "# Initialize the model and k-fold cross-validation\n",
    "k = 10  # Number of folds\n",
    "kf = KFold(n_splits=k, shuffle=True, random_state=42)\n",
    "model = LinearRegression()\n",
    "\n",
    "# List to store MSE for each fold\n",
    "mse_scores = []\n",
    "X_train_single = X_train['horsepower']\n",
    "\n",
    "# Perform k-fold cross-validation\n",
    "for i, (train_index, val_index) in enumerate(kf.split(X_train_single)):\n",
    "    # Split the data into training and test sets\n",
    "    X_train_cross, X_val = X_train_single.iloc[train_index], X_train_single.iloc[val_index]\n",
    "    y_train_cross, y_val = y_train.iloc[train_index], y_train.iloc[val_index]\n",
    "\n",
    "    # Select only horsepower column\n",
    "    X_train_cross = X_train_cross.values.reshape(-1, 1)\n",
    "    \n",
    "    # Train the model on the training set\n",
    "    model.fit(X_train_cross, y_train_cross)\n",
    "    \n",
    "    # Predict on the test set\n",
    "    y_pred = model.predict(X_val.values.reshape(-1, 1))\n",
    "    \n",
    "    # Calculate Mean Squared Error\n",
    "    mse = mean_squared_error(y_val.values, y_pred)\n",
    "    mse_scores.append(mse)\n",
    "    # print(f\"Fold {i}:\")\n",
    "    #print(f\"  Training dataset index: {train_index}\")\n",
    "    print(f\"\\nTest dataset index: {val_index}\")\n",
    "    print(f\"Mean MSE across {1} folds: {mse:.4f}\")\n",
    "\n",
    "# Calculate the mean and standard deviation of MSE\n",
    "mean_mse = np.mean(mse_scores)\n",
    "\n",
    "# Output the results\n",
    "print(f\"{'-'*30}\\nMean MSE across {k} folds: {mean_mse:.4f}\")"
   ]
  },
  {
   "cell_type": "markdown",
   "metadata": {},
   "source": [
    "#### How to K-Fold Cross validation"
   ]
  },
  {
   "cell_type": "code",
   "execution_count": 318,
   "metadata": {},
   "outputs": [
    {
     "name": "stdout",
     "output_type": "stream",
     "text": [
      "Mean Squared Error (average): 16.7273842946942\n"
     ]
    }
   ],
   "source": [
    "# Create the scorer for Mean Squared Error\n",
    "mse_scorer = make_scorer(mean_squared_error, greater_is_better=False)\n",
    "\n",
    "# Initialize the linear regression model\n",
    "log_reg = LinearRegression()\n",
    "\n",
    "# Create the K-Fold cross-validator\n",
    "cv = KFold(n_splits=5, shuffle=True, random_state=42)\n",
    "\n",
    "# Perform cross-validation measuring the Mean Squared Error\n",
    "scores = cross_val_score(\n",
    "    log_reg, X_train, y_train, cv=cv, scoring=mse_scorer, n_jobs=-1\n",
    ") # you can simply use scoring='accuracy' instead of mse_scorer in classification problems\n",
    "\n",
    "# Calculate the mean of the MSE scores\n",
    "mean_mse = -scores.mean()  # Invert the sign because greater_is_better=False\n",
    "print(f\"Mean Squared Error (average): {mean_mse}\")\n"
   ]
  },
  {
   "cell_type": "code",
   "execution_count": 319,
   "metadata": {},
   "outputs": [
    {
     "data": {
      "image/png": "[encoded data removed]",
      "text/plain": [
       "<Figure size 600x300 with 1 Axes>"
      ]
     },
     "metadata": {},
     "output_type": "display_data"
    }
   ],
   "source": [
    "# Create figure and axis\n",
    "fig, ax = plt.subplots(figsize=(6, 3))\n",
    "plot_kfold(cv, X_train, y_train, ax, 5)\n",
    "plt.tight_layout()\n",
    "fig.subplots_adjust(right=0.6)"
   ]
  },
  {
   "cell_type": "markdown",
   "metadata": {},
   "source": [
    "# 3. Leave One Out Cross Validation (LOOCV)"
   ]
  },
  {
   "cell_type": "code",
   "execution_count": 320,
   "metadata": {},
   "outputs": [
    {
     "name": "stdout",
     "output_type": "stream",
     "text": [
      "Mean Squared Error (average): 17.15630622984947\n"
     ]
    }
   ],
   "source": [
    "# Create the LOOCV cross-validator\n",
    "cv = LeaveOneOut()\n",
    "\n",
    "# Perform cross-validation measuring the Mean Squared Error\n",
    "scores = cross_val_score(\n",
    "    log_reg, X_train, y_train, cv=cv, scoring=mse_scorer, n_jobs=-1\n",
    ") # you can simply use scoring='accuracy' instead of mse_scorer in classification problems\n",
    "\n",
    "# Calculate the mean of the MSE scores\n",
    "mean_mse = -scores.mean()  # Invert the sign because greater_is_better=False\n",
    "print(f\"Mean Squared Error (average): {mean_mse}\")\n"
   ]
  }
 ],
 "metadata": {
  "kernelspec": {
   "display_name": ".venv",
   "language": "python",
   "name": "python3"
  },
  "language_info": {
   "codemirror_mode": {
    "name": "ipython",
    "version": 3
   },
   "file_extension": ".py",
   "mimetype": "text/x-python",
   "name": "python",
   "nbconvert_exporter": "python",
   "pygments_lexer": "ipython3",
   "version": "3.12.4"
  }
 },
 "nbformat": 4,
 "nbformat_minor": 2
}
